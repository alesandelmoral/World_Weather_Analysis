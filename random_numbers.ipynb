{
 "cells": [
  {
   "cell_type": "code",
   "execution_count": 21,
   "id": "507d1efe",
   "metadata": {},
   "outputs": [],
   "source": [
    "#Import the random module.\n",
    "import random \n",
    "#Import the numPy module\n",
    "import numpy as np\n",
    "# Import timeit.\n",
    "import timeit"
   ]
  },
  {
   "cell_type": "code",
   "execution_count": 2,
   "id": "fad7eeba",
   "metadata": {},
   "outputs": [
    {
     "data": {
      "text/plain": [
       "-10"
      ]
     },
     "execution_count": 2,
     "metadata": {},
     "output_type": "execute_result"
    }
   ],
   "source": [
    "random.randint(-90,90)"
   ]
  },
  {
   "cell_type": "code",
   "execution_count": 5,
   "id": "b1ee05b4",
   "metadata": {},
   "outputs": [
    {
     "data": {
      "text/plain": [
       "0.5996354891670327"
      ]
     },
     "execution_count": 5,
     "metadata": {},
     "output_type": "execute_result"
    }
   ],
   "source": [
    "random.random()"
   ]
  },
  {
   "cell_type": "code",
   "execution_count": 7,
   "id": "1b738dce",
   "metadata": {},
   "outputs": [
    {
     "data": {
      "text/plain": [
       "-24.876175368262867"
      ]
     },
     "execution_count": 7,
     "metadata": {},
     "output_type": "execute_result"
    }
   ],
   "source": [
    "random_number = random.randint(-90, 89) + random.random()\n",
    "random_number"
   ]
  },
  {
   "cell_type": "code",
   "execution_count": 11,
   "id": "6b45bd4f",
   "metadata": {},
   "outputs": [
    {
     "data": {
      "text/plain": [
       "[-10.432777722982777,\n",
       " 44.526852087009516,\n",
       " 48.884553974250146,\n",
       " -40.02183371228853,\n",
       " 47.29472799919618,\n",
       " 84.23398338908038,\n",
       " -86.01269866166164,\n",
       " 49.6446850001993,\n",
       " -3.5514513804765495,\n",
       " -69.89107205214987]"
      ]
     },
     "execution_count": 11,
     "metadata": {},
     "output_type": "execute_result"
    }
   ],
   "source": [
    "#Creating mora than one random number, creating 10 random numbers\n",
    "\n",
    "x = 1\n",
    "latitudes = []\n",
    "while x < 11:\n",
    "     random_lat = random.randint(-90, 89) + random.random()\n",
    "     latitudes.append(random_lat)\n",
    "     x +=1\n",
    "latitudes"
   ]
  },
  {
   "cell_type": "code",
   "execution_count": 12,
   "id": "dc933d50",
   "metadata": {},
   "outputs": [
    {
     "data": {
      "text/plain": [
       "-99"
      ]
     },
     "execution_count": 12,
     "metadata": {},
     "output_type": "execute_result"
    }
   ],
   "source": [
    "random.randrange(-180,180, step = 1)"
   ]
  },
  {
   "cell_type": "code",
   "execution_count": 14,
   "id": "9dace4df",
   "metadata": {},
   "outputs": [
    {
     "data": {
      "text/plain": [
       "-30.526635075808937"
      ]
     },
     "execution_count": 14,
     "metadata": {},
     "output_type": "execute_result"
    }
   ],
   "source": [
    "random_number2 = random.randrange(-180,180, step = 1) +random.random()\n",
    "random_number2"
   ]
  },
  {
   "cell_type": "code",
   "execution_count": 16,
   "id": "a8c093fd",
   "metadata": {},
   "outputs": [
    {
     "data": {
      "text/plain": [
       "123.64359032923693"
      ]
     },
     "execution_count": 16,
     "metadata": {},
     "output_type": "execute_result"
    }
   ],
   "source": [
    "random.uniform(-180,180)"
   ]
  },
  {
   "cell_type": "code",
   "execution_count": 18,
   "id": "e567e327",
   "metadata": {},
   "outputs": [
    {
     "data": {
      "text/plain": [
       "64.4422506349483"
      ]
     },
     "execution_count": 18,
     "metadata": {},
     "output_type": "execute_result"
    }
   ],
   "source": [
    "np.random.uniform(-90.000, 90.000)"
   ]
  },
  {
   "cell_type": "code",
   "execution_count": 19,
   "id": "9ec4adf8",
   "metadata": {},
   "outputs": [
    {
     "data": {
      "text/plain": [
       "-24.01914374190366"
      ]
     },
     "execution_count": 19,
     "metadata": {},
     "output_type": "execute_result"
    }
   ],
   "source": [
    "#Another option is to use np random module is put the paramether low and high\n",
    "np.random.uniform(low=-90, high=90)"
   ]
  },
  {
   "cell_type": "code",
   "execution_count": 22,
   "id": "3341bf3e",
   "metadata": {},
   "outputs": [
    {
     "name": "stdout",
     "output_type": "stream",
     "text": [
      "16.7 µs ± 1.44 µs per loop (mean ± std. dev. of 7 runs, 100000 loops each)\n"
     ]
    }
   ],
   "source": [
    "#The output is the amount of time it took to run this code, which is an average of 14.6 microseconds\n",
    "%timeit np.random.uniform(-90.000,90.000, size = 1500)"
   ]
  },
  {
   "cell_type": "code",
   "execution_count": 23,
   "id": "3331f3f9",
   "metadata": {},
   "outputs": [
    {
     "name": "stdout",
     "output_type": "stream",
     "text": [
      "2.04 ms ± 246 µs per loop (mean ± std. dev. of 7 runs, 100 loops each)\n"
     ]
    }
   ],
   "source": [
    "def latitudes(size):\n",
    "    latitudes = []\n",
    "    x = 0\n",
    "    while x < (size):\n",
    "        random_lat = random.randint(-90, 90) + random.random()\n",
    "        latitudes.append(random_lat)\n",
    "        x += 1\n",
    "    return latitudes\n",
    "# Call the function with 1500.\n",
    "%timeit latitudes(1500)"
   ]
  },
  {
   "cell_type": "code",
   "execution_count": 25,
   "id": "439138d6",
   "metadata": {},
   "outputs": [
    {
     "name": "stdout",
     "output_type": "stream",
     "text": [
      "2.5 ms ± 781 µs per loop (mean ± std. dev. of 7 runs, 100 loops each)\n"
     ]
    }
   ],
   "source": [
    "%timeit latitudes(1500)"
   ]
  },
  {
   "cell_type": "code",
   "execution_count": 29,
   "id": "794bb3ca",
   "metadata": {},
   "outputs": [
    {
     "name": "stdout",
     "output_type": "stream",
     "text": [
      "2.3 ms ± 270 µs per loop (mean ± std. dev. of 7 runs, 100 loops each)\n"
     ]
    }
   ],
   "source": [
    "def latitudesFOR(size):\n",
    "    latitudes = []\n",
    "    x = 0\n",
    "    for x in range(size):\n",
    "        random_lat = random.randint(-90, 90) + random.random()\n",
    "        latitudes.append(random_lat)\n",
    "        x += 1\n",
    "    return latitudes\n",
    "# Call the function with 1500.\n",
    "%timeit latitudes(1500)"
   ]
  },
  {
   "cell_type": "code",
   "execution_count": 30,
   "id": "4d2abbd6",
   "metadata": {},
   "outputs": [
    {
     "name": "stdout",
     "output_type": "stream",
     "text": [
      "2.21 ms ± 191 µs per loop (mean ± std. dev. of 7 runs, 1000 loops each)\n"
     ]
    }
   ],
   "source": [
    "%timeit latitudesFOR(1500)"
   ]
  }
 ],
 "metadata": {
  "kernelspec": {
   "display_name": "Python [conda env:PythonData2] *",
   "language": "python",
   "name": "conda-env-PythonData2-py"
  },
  "language_info": {
   "codemirror_mode": {
    "name": "ipython",
    "version": 3
   },
   "file_extension": ".py",
   "mimetype": "text/x-python",
   "name": "python",
   "nbconvert_exporter": "python",
   "pygments_lexer": "ipython3",
   "version": "3.8.8"
  }
 },
 "nbformat": 4,
 "nbformat_minor": 5
}
