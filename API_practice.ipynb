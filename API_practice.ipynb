{
 "cells": [
  {
   "cell_type": "code",
   "execution_count": 10,
   "id": "b810c2f2",
   "metadata": {},
   "outputs": [],
   "source": [
    "# Use the citipy module to determine city based on latitude and longitude.\n",
    "from citipy import citipy"
   ]
  },
  {
   "cell_type": "code",
   "execution_count": 27,
   "id": "47b87d4f",
   "metadata": {},
   "outputs": [
    {
     "data": {
      "text/plain": [
       "'2.25.1'"
      ]
     },
     "execution_count": 27,
     "metadata": {},
     "output_type": "execute_result"
    }
   ],
   "source": [
    "import requests\n",
    "requests.__version__"
   ]
  },
  {
   "cell_type": "code",
   "execution_count": 25,
   "id": "3bf66117",
   "metadata": {},
   "outputs": [
    {
     "ename": "TypeError",
     "evalue": "'type' object is not subscriptable",
     "output_type": "error",
     "traceback": [
      "\u001b[1;31m---------------------------------------------------------------------------\u001b[0m",
      "\u001b[1;31mTypeError\u001b[0m                                 Traceback (most recent call last)",
      "\u001b[1;32m<ipython-input-25-6db452ef7958>\u001b[0m in \u001b[0;36m<module>\u001b[1;34m\u001b[0m\n\u001b[0;32m      3\u001b[0m \u001b[0my\u001b[0m \u001b[1;33m=\u001b[0m \u001b[1;33m[\u001b[0m\u001b[1;33m-\u001b[0m\u001b[1;36m67.59741259\u001b[0m\u001b[1;33m,\u001b[0m \u001b[1;36m11.09532135\u001b[0m\u001b[1;33m,\u001b[0m \u001b[1;36m74.84233102\u001b[0m\u001b[1;33m,\u001b[0m \u001b[1;33m-\u001b[0m\u001b[1;36m76.89176677\u001b[0m\u001b[1;33m,\u001b[0m \u001b[1;33m-\u001b[0m\u001b[1;36m61.13376282\u001b[0m\u001b[1;33m]\u001b[0m\u001b[1;33m\u001b[0m\u001b[1;33m\u001b[0m\u001b[0m\n\u001b[0;32m      4\u001b[0m \u001b[0mcoordinates\u001b[0m \u001b[1;33m=\u001b[0m \u001b[0mzip\u001b[0m\u001b[1;33m(\u001b[0m\u001b[0mx\u001b[0m\u001b[1;33m,\u001b[0m \u001b[0my\u001b[0m\u001b[1;33m)\u001b[0m\u001b[1;33m\u001b[0m\u001b[1;33m\u001b[0m\u001b[0m\n\u001b[1;32m----> 5\u001b[1;33m \u001b[0mcoordinates\u001b[0m \u001b[1;33m=\u001b[0m \u001b[0mlist\u001b[0m\u001b[1;33m[\u001b[0m\u001b[0mcoordinates\u001b[0m\u001b[1;33m]\u001b[0m\u001b[1;33m\u001b[0m\u001b[1;33m\u001b[0m\u001b[0m\n\u001b[0m",
      "\u001b[1;31mTypeError\u001b[0m: 'type' object is not subscriptable"
     ]
    }
   ],
   "source": [
    "# Create a practice set of random latitude and longitude combinations.\n",
    "x = [25.12903645, 25.92017388, 26.62509167, -59.98969384, 37.30571269]\n",
    "y = [-67.59741259, 11.09532135, 74.84233102, -76.89176677, -61.13376282]\n",
    "coordinates = zip(x, y)\n",
    "coordinates = list[coordinates]"
   ]
  },
  {
   "cell_type": "code",
   "execution_count": null,
   "id": "775ebd44",
   "metadata": {},
   "outputs": [],
   "source": [
    "# Use the tuple() function to display the latitude and longitude combinations.\n",
    "for coordinate in coordinates:\n",
    "    print(coordinate[0], coordinate[1])"
   ]
  },
  {
   "cell_type": "code",
   "execution_count": 26,
   "id": "22354f8e",
   "metadata": {},
   "outputs": [
    {
     "name": "stdout",
     "output_type": "stream",
     "text": [
      "cockburn town tc\n",
      "gat ly\n",
      "parvatsar in\n",
      "punta arenas cl\n",
      "saint george bm\n"
     ]
    }
   ],
   "source": [
    "# Use the tuple() function to display the latitude and longitude combinations.\n",
    "#Lo tenemos que guardar en una lista para que no haya problema despues en invocar el método de city y country*****\n",
    "for coordinate in coordinates:\n",
    "    print(citipy.nearest_city(coordinate[0], coordinate[1]).city_name,\n",
    "          citipy.nearest_city(coordinate[0], coordinate[1]).country_code)"
   ]
  },
  {
   "cell_type": "code",
   "execution_count": 22,
   "id": "a6d9a68a",
   "metadata": {},
   "outputs": [
    {
     "data": {
      "text/plain": [
       "<citipy.citipy.City at 0x13bec381130>"
      ]
     },
     "execution_count": 22,
     "metadata": {},
     "output_type": "execute_result"
    }
   ],
   "source": [
    "city = citipy.nearest_city(22.99, 130.21)\n",
    "city"
   ]
  },
  {
   "cell_type": "code",
   "execution_count": 23,
   "id": "083940ec",
   "metadata": {},
   "outputs": [
    {
     "data": {
      "text/plain": [
       "'nishihara'"
      ]
     },
     "execution_count": 23,
     "metadata": {},
     "output_type": "execute_result"
    }
   ],
   "source": [
    "city.city_name "
   ]
  },
  {
   "cell_type": "code",
   "execution_count": 29,
   "id": "91463971",
   "metadata": {},
   "outputs": [],
   "source": [
    "#import the Requests Library and your API key\n",
    "\n",
    "#Import the request lirary\n",
    "import requests\n",
    "# Import the API key.\n",
    "from config import weather_api_key"
   ]
  },
  {
   "cell_type": "code",
   "execution_count": null,
   "id": "931937af",
   "metadata": {},
   "outputs": [],
   "source": [
    "\n",
    "# Starting URL for Weather Map API Call.\n",
    "url = \"http://api.openweathermap.org/data/2.5/weather?units=Imperial&APPID=\" + weather_api_key"
   ]
  },
  {
   "cell_type": "code",
   "execution_count": 42,
   "id": "99922889",
   "metadata": {},
   "outputs": [
    {
     "name": "stdout",
     "output_type": "stream",
     "text": [
      "http://api.openweathermap.org/data/2.5/weather?units=Imperial&APPID=1daee7549f0dbd73d947515bfd4c9bda&q=Boston\n"
     ]
    }
   ],
   "source": [
    "# Create an endpoint URL for a city.\n",
    "city_url = url + \"&q=\" + \"Boston\"\n",
    "print(city_url)"
   ]
  },
  {
   "cell_type": "code",
   "execution_count": 55,
   "id": "f2cd07d1",
   "metadata": {},
   "outputs": [
    {
     "name": "stdout",
     "output_type": "stream",
     "text": [
      "City Weather found.\n"
     ]
    }
   ],
   "source": [
    "# Make a 'Get' request for the city weather.\n",
    "city_weather = requests.get(city_url)\n",
    "if city_weather.status_code == 200:\n",
    "    print(f\"City Weather found.\")\n",
    "else:\n",
    "    print(f\"City weather not found.\")"
   ]
  },
  {
   "cell_type": "code",
   "execution_count": 51,
   "id": "3abedb89",
   "metadata": {},
   "outputs": [
    {
     "data": {
      "text/plain": [
       "200"
      ]
     },
     "execution_count": 51,
     "metadata": {},
     "output_type": "execute_result"
    }
   ],
   "source": [
    "#get directly call the response code\n",
    "city_weather.status_code"
   ]
  },
  {
   "cell_type": "code",
   "execution_count": 52,
   "id": "5ae9ab5b",
   "metadata": {},
   "outputs": [
    {
     "data": {
      "text/plain": [
       "'{\"coord\":{\"lon\":-71.0598,\"lat\":42.3584},\"weather\":[{\"id\":804,\"main\":\"Clouds\",\"description\":\"overcast clouds\",\"icon\":\"04d\"}],\"base\":\"stations\",\"main\":{\"temp\":73.96,\"feels_like\":74.07,\"temp_min\":69.94,\"temp_max\":77.32,\"pressure\":1016,\"humidity\":64},\"visibility\":10000,\"wind\":{\"speed\":1.99,\"deg\":25,\"gust\":5.01},\"clouds\":{\"all\":93},\"dt\":1626994570,\"sys\":{\"type\":2,\"id\":2009921,\"country\":\"US\",\"sunrise\":1626946022,\"sunset\":1626999241},\"timezone\":-14400,\"id\":4930956,\"name\":\"Boston\",\"cod\":200}'"
      ]
     },
     "execution_count": 52,
     "metadata": {},
     "output_type": "execute_result"
    }
   ],
   "source": [
    "# Get the text of the 'Get' request.\n",
    "city_weather.text"
   ]
  },
  {
   "cell_type": "code",
   "execution_count": 57,
   "id": "6a937e50",
   "metadata": {},
   "outputs": [
    {
     "data": {
      "text/plain": [
       "{'coord': {'lon': -71.0598, 'lat': 42.3584},\n",
       " 'weather': [{'id': 804,\n",
       "   'main': 'Clouds',\n",
       "   'description': 'overcast clouds',\n",
       "   'icon': '04d'}],\n",
       " 'base': 'stations',\n",
       " 'main': {'temp': 73.81,\n",
       "  'feels_like': 73.96,\n",
       "  'temp_min': 68.95,\n",
       "  'temp_max': 77.38,\n",
       "  'pressure': 1017,\n",
       "  'humidity': 65},\n",
       " 'visibility': 10000,\n",
       " 'wind': {'speed': 1.01, 'deg': 167, 'gust': 5.01},\n",
       " 'clouds': {'all': 90},\n",
       " 'dt': 1626995333,\n",
       " 'sys': {'type': 2,\n",
       "  'id': 2013408,\n",
       "  'country': 'US',\n",
       "  'sunrise': 1626946022,\n",
       "  'sunset': 1626999241},\n",
       " 'timezone': -14400,\n",
       " 'id': 4930956,\n",
       " 'name': 'Boston',\n",
       " 'cod': 200}"
      ]
     },
     "execution_count": 57,
     "metadata": {},
     "output_type": "execute_result"
    }
   ],
   "source": [
    "# Get the JSON text of the 'Get' request.\n",
    "boston_data = city_weather.json()\n",
    "boston_data"
   ]
  },
  {
   "cell_type": "code",
   "execution_count": 59,
   "id": "093d8fab",
   "metadata": {},
   "outputs": [
    {
     "data": {
      "text/plain": [
       "'US'"
      ]
     },
     "execution_count": 59,
     "metadata": {},
     "output_type": "execute_result"
    }
   ],
   "source": [
    "boston_data[\"sys\"][\"country\"]"
   ]
  },
  {
   "cell_type": "code",
   "execution_count": 60,
   "id": "f7d410c9",
   "metadata": {},
   "outputs": [
    {
     "data": {
      "text/plain": [
       "1626995333"
      ]
     },
     "execution_count": 60,
     "metadata": {},
     "output_type": "execute_result"
    }
   ],
   "source": [
    "boston_data[\"dt\"]"
   ]
  },
  {
   "cell_type": "code",
   "execution_count": 64,
   "id": "0da97f65",
   "metadata": {},
   "outputs": [
    {
     "name": "stdout",
     "output_type": "stream",
     "text": [
      "42.3584 -71.0598 77.38 65 90 1.01\n"
     ]
    }
   ],
   "source": [
    "#The output will be all of the weather parameters, with the units for maximum temperature\n",
    "#in degrees Fahrenheit, the humidity and clouds as a percentage, and the wind in miles per hour.\n",
    "lat = boston_data[\"coord\"][\"lat\"]\n",
    "lng = boston_data[\"coord\"][\"lon\"]\n",
    "max_temp = boston_data[\"main\"][\"temp_max\"]\n",
    "humidity = boston_data[\"main\"][\"humidity\"]\n",
    "clouds = boston_data[\"clouds\"][\"all\"]\n",
    "wind = boston_data[\"wind\"][\"speed\"]\n",
    "print(lat, lng, max_temp, humidity, clouds, wind)"
   ]
  },
  {
   "cell_type": "code",
   "execution_count": 66,
   "id": "f172f077",
   "metadata": {},
   "outputs": [
    {
     "data": {
      "text/plain": [
       "1626995333"
      ]
     },
     "execution_count": 66,
     "metadata": {},
     "output_type": "execute_result"
    }
   ],
   "source": [
    "#This format is called Coordinated Universal Time (UTC) or Greenwich Mean Time (GMT). \n",
    "#If we want to convert the timestamp to the International Organization for Standardization (ISO) format, \n",
    "#or YYYY-MM-DD-HH-MM-SS, we need to use the Python datetime module.\n",
    "\n",
    "date = boston_data[\"dt\"]\n",
    "date"
   ]
  },
  {
   "cell_type": "code",
   "execution_count": 67,
   "id": "166660ab",
   "metadata": {},
   "outputs": [
    {
     "data": {
      "text/plain": [
       "datetime.datetime(2021, 7, 22, 23, 8, 53)"
      ]
     },
     "execution_count": 67,
     "metadata": {},
     "output_type": "execute_result"
    }
   ],
   "source": [
    "#we need to import datetime\n",
    "from datetime import datetime\n",
    "# Convert the UTC date to a date format with year, month, day, hours, minutes, and seconds.\n",
    "datetime.utcfromtimestamp(date)"
   ]
  },
  {
   "cell_type": "code",
   "execution_count": 68,
   "id": "a46ea8eb",
   "metadata": {},
   "outputs": [
    {
     "data": {
      "text/plain": [
       "'2021-07-22 23:08:53'"
      ]
     },
     "execution_count": 68,
     "metadata": {},
     "output_type": "execute_result"
    }
   ],
   "source": [
    "#We can convert this datetime format to 2019-10-21 17:24:35 using the Python string format method\n",
    "#and adding how we want the string to look inside the parentheses strftime('%Y-%m-%d %H:%M:%S')\n",
    "datetime.utcfromtimestamp(date).strftime('%Y-%m-%d %H:%M:%S')"
   ]
  },
  {
   "cell_type": "code",
   "execution_count": 3,
   "id": "88a8ed68",
   "metadata": {},
   "outputs": [
    {
     "data": {
      "text/plain": [
       "'07/23/21'"
      ]
     },
     "execution_count": 3,
     "metadata": {},
     "output_type": "execute_result"
    }
   ],
   "source": [
    "# Import the time module.\n",
    "import time\n",
    "# Get today's date in seconds.\n",
    "today = time.strftime(\"%x\")\n",
    "today"
   ]
  },
  {
   "cell_type": "code",
   "execution_count": null,
   "id": "0decaace",
   "metadata": {},
   "outputs": [],
   "source": []
  }
 ],
 "metadata": {
  "kernelspec": {
   "display_name": "Python [conda env:PythonData2] *",
   "language": "python",
   "name": "conda-env-PythonData2-py"
  },
  "language_info": {
   "codemirror_mode": {
    "name": "ipython",
    "version": 3
   },
   "file_extension": ".py",
   "mimetype": "text/x-python",
   "name": "python",
   "nbconvert_exporter": "python",
   "pygments_lexer": "ipython3",
   "version": "3.8.8"
  }
 },
 "nbformat": 4,
 "nbformat_minor": 5
}
